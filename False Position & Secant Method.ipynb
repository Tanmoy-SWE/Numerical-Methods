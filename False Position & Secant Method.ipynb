{
  "cells": [
    {
      "cell_type": "markdown",
      "metadata": {
        "id": "SChhcgB_Tkv9"
      },
      "source": [
        "# **False Position and Secant method**<br>\n",
        "\n",
        "The False Position method is one of the methods of finding roots of a non-linear function. Similar to the Bisection method, it falls under the category of **Bracketing methods** since the initial boundary guesses, x<sub>l</sub> and x<sub>u</sub>, must bracket the actual root. And the assumption here is that the function is real continuous, otherwise the False position method wouldn't work. The main difference between the Bisection method and False position method is that it takes advantage of the fact that one of the boundary values, either x<sub>l</sub> or x<sub>u</sub>, would have their functional value be closer to the zero of the function, and this would result in the new estimation x<sub>r</sub> be closer to one of the bracketing values than the mid-point x<sub>m</sub>.\n",
        "\n",
        "In today's lab, we will be implementing the False position method in python. Just like in the previous lab for Bisection method, we will be considering the function f(x) as an array of coefficients, for instance if we want to have f(x) = x<sup>3</sup>+x-2, then in python we will create an array as follows:\n"
      ]
    },
    {
      "cell_type": "code",
      "execution_count": null,
      "metadata": {
        "id": "rZ4tGQSjTvYF"
      },
      "outputs": [],
      "source": [
        "f = [0.5,0,-2,5]"
      ]
    },
    {
      "cell_type": "markdown",
      "metadata": {
        "id": "E4vSfOrrTwlc"
      },
      "source": [
        "Note that your implementation should be able to handle the array f of any size,which means it should be able to find the root of any given polynomial. But for testing purposes, you can use the array f given here.\n",
        "\n",
        "Next, you will need to create a user-defined function as follows\n",
        "```\n",
        "func(f, x)\n",
        "```\n",
        "This function will take the coefficent array f and a point x as input and evaluate the value of the function at that point x using a loop and return that value. This function will be called in the other function that you will implement, which is as follows:\n",
        "```\n",
        "falseposition(f, xl, xu, epsilon)\n",
        "```\n",
        "This function will return the root of the equation represented by the array f and in case it does not reach the root exactly then it will return the close enough value to the root that has an absolute relative approximate error of at most epsilon (%)."
      ]
    },
    {
      "cell_type": "markdown",
      "metadata": {
        "id": "3sOLCbqJT7q0"
      },
      "source": [
        "##Task 1\n",
        "Implement the function for False position method following the requirements set earlier. Write a script after the function to call it and test whether it is working correctly. For the function given above, there is only one real root and it is 1."
      ]
    },
    {
      "cell_type": "code",
      "execution_count": null,
      "metadata": {
        "colab": {
          "base_uri": "https://localhost:8080/"
        },
        "id": "83LK2oCsCtvd",
        "outputId": "f735e909-1ae4-4fb3-df07-286a1d220bc1"
      },
      "outputs": [
        {
          "name": "stdout",
          "output_type": "stream",
          "text": [
            "5.0\n"
          ]
        }
      ],
      "source": [
        "def func(f, x):\n",
        "    result = 0\n",
        "    for i in range(len(f)-1, -1, -1):\n",
        "      result = result + f[len(f)-i-1]*pow(x,i)\n",
        "    return result\n",
        "\n",
        "print(func(f,2))"
      ]
    },
    {
      "cell_type": "code",
      "execution_count": null,
      "metadata": {
        "colab": {
          "base_uri": "https://localhost:8080/"
        },
        "id": "f6HGUB7nT9k9",
        "outputId": "159bc345-a9a4-4d58-b98a-6ba2967a26dc"
      },
      "outputs": [
        {
          "name": "stdout",
          "output_type": "stream",
          "text": [
            "-0.47619047619047616   80\n",
            "-0.9758908846412448   51.20453693288339\n",
            "-1.4594273121605108   33.131929455496284\n",
            "-1.8777796634963981   22.279096928599248\n",
            "-2.198875817163798   14.602741599185132\n",
            "-2.4205414033367094   9.157686204720395\n",
            "-2.561709769989399   5.510708836203318\n",
            "-2.646820200642128   3.2155728081598127\n",
            "-2.6963977433969757   1.838658368419665\n",
            "-2.7246898424070976   1.0383603509575063\n",
            "-2.740644219045064   0.5821396490320606\n",
            "-2.7495805127792186   0.3250057124212737\n",
            "-2.754566856715774   0.18102098064523042\n",
            "-2.7573432588301072   0.10069120358671829\n",
            "-2.758887328517011   0.05596711655976828\n",
            "-2.759745480963912   0.031095347481144325\n",
            "-2.760222243832227   0.017272626122061086\n",
            "The root is :  -2.760487064409899\n"
          ]
        }
      ],
      "source": [
        "# Write a function to return the value of the polynomial at the point x\n",
        "def func(f, x):\n",
        "    result = 0\n",
        "    for i in range(len(f)-1, -1, -1):\n",
        "      result = result + f[len(f)-i-1]*pow(x,i)\n",
        "    return result\n",
        "\n",
        "\n",
        "\n",
        "\n",
        "  \n",
        "#-2.761\n",
        "#Complete the following function\n",
        "\n",
        "def falseposition(f, xl, xu, epsilon):\n",
        "  #write your implementation here\n",
        "  error = 80\n",
        "  i = 1\n",
        "  errorList = []\n",
        "  while(1):\n",
        "    xrNew = ((xu*func(f,xl)) - (xl*func(f,xu)))/(func(f,xl)-func(f,xu))\n",
        "    if (func(f,xl)*func(f,xrNew))<0:\n",
        "      xu = xrNew\n",
        "    elif (func(f,xl)*func(f,xrNew))>0:\n",
        "      xl = xrNew\n",
        "    else:\n",
        "      xrNew = xrNew\n",
        "      return xrNew\n",
        "    if(i>1):\n",
        "        error = ((xrNew - xr)/xrNew)*100\n",
        "        error = abs(error)\n",
        "        errorList.append(error)\n",
        "        if error < epsilon :\n",
        "          break\n",
        "    xr = xrNew\n",
        "    i = i+1\n",
        "    print(xrNew, \" \", error)\n",
        "  print(\"The root is : \",xrNew)\n",
        "  return errorList\n",
        "\n",
        "#Write a driver code here for calling the function and testing it\n",
        "\n",
        "errorList = falseposition(f,-5, 5, 0.01)"
      ]
    },
    {
      "cell_type": "markdown",
      "metadata": {
        "id": "5Jb9dNIqT_f8"
      },
      "source": [
        "In case you do not remember how graphs can be plotted in Python, here is a sample code showing how to do it using the matplotlib library."
      ]
    },
    {
      "cell_type": "code",
      "execution_count": null,
      "metadata": {
        "colab": {
          "base_uri": "https://localhost:8080/",
          "height": 295
        },
        "id": "0XJwGIRjUCy7",
        "outputId": "4a63b793-e7cb-4975-8287-728f4e826a5a"
      },
      "outputs": [
        {
          "data": {
            "image/png": "[encoded data removed]",
            "text/plain": [
              "<Figure size 432x288 with 1 Axes>"
            ]
          },
          "metadata": {
            "needs_background": "light"
          },
          "output_type": "display_data"
        }
      ],
      "source": [
        "import numpy as np\n",
        "import matplotlib.pyplot as plt\n",
        "\n",
        "iters = np.arange(0, 5) #start=0, stop=5, and since no step is given, so default step=1\n",
        "vals = np.arange(100, 200, 20) #start=100, stop=200, step=20\n",
        "\n",
        "plt.plot(iters, vals)\n",
        "plt.title(\"Iterations vs values plot\")\n",
        "plt.xlabel(\"Iteration\")\n",
        "plt.ylabel(\"Value\")\n",
        "plt.show()"
      ]
    },
    {
      "cell_type": "markdown",
      "metadata": {
        "id": "Z6sc0ZNUUGNk"
      },
      "source": [
        "## Task 2\n",
        "Generate a plot of **iteration vs relative approx error (%)** for the False Position method function you implemented earlier."
      ]
    },
    {
      "cell_type": "code",
      "execution_count": null,
      "metadata": {
        "colab": {
          "base_uri": "https://localhost:8080/",
          "height": 332
        },
        "id": "zHadfasm8dUF",
        "outputId": "02495981-6a55-43c9-8867-f33613cea5aa"
      },
      "outputs": [
        {
          "name": "stdout",
          "output_type": "stream",
          "text": [
            "[51.20453693288339, 33.131929455496284, 22.279096928599248, 14.602741599185132, 9.157686204720395, 5.510708836203318, 3.2155728081598127, 1.838658368419665, 1.0383603509575063, 0.5821396490320606, 0.3250057124212737, 0.18102098064523042, 0.10069120358671829, 0.05596711655976828, 0.031095347481144325, 0.017272626122061086, 0.009593255519517736]\n"
          ]
        },
        {
          "data": {
            "image/png": "[encoded data removed]",
            "text/plain": [
              "<Figure size 432x288 with 1 Axes>"
            ]
          },
          "metadata": {
            "needs_background": "light"
          },
          "output_type": "display_data"
        }
      ],
      "source": [
        "# Write your code for generating the graph here\n",
        "\n",
        "import numpy as np\n",
        "import matplotlib.pyplot as plt\n",
        "\n",
        "iters = np.arange(0, 5) #start=0, stop=5, and since no step is given, so default step=1\n",
        "vals = np.arange(100, 200, 20) #start=100, stop=200, step=20\n",
        "print(errorList)\n",
        "plt.plot(errorList)\n",
        "plt.title(\"Iterations vs error plot\")\n",
        "plt.xlabel(\"Iteration\")\n",
        "plt.ylabel(\"Error\")\n",
        "plt.show()\n",
        "\n"
      ]
    },
    {
      "cell_type": "markdown",
      "metadata": {
        "id": "t1yWM5V18cA2"
      },
      "source": [
        "# **Secant method**\n",
        "The Secant method is another method of finding roots of a nonlinear function. Unlike the Bisection and False position method, it falls under the category of **Open methods** due to the fact that we only need two initial guesses that do not have to bracket the actual root. Secant method works by approximating the derivative that is used in **Newton Raphson method**."
      ]
    },
    {
      "cell_type": "markdown",
      "metadata": {
        "id": "rcyU1bzM9u3g"
      },
      "source": [
        "## Task 3\n",
        "Implement the Secant method for the above function and write a script for testing its implementation. The actual root is 1, and you can take the initial guesses for the secant as 2 and 2.2."
      ]
    },
    {
      "cell_type": "code",
      "execution_count": null,
      "metadata": {
        "colab": {
          "base_uri": "https://localhost:8080/"
        },
        "id": "HcPhTbIu_sn4",
        "outputId": "4fe4a815-580e-4e43-b511-0082336a910c"
      },
      "outputs": [
        {
          "name": "stdout",
          "output_type": "stream",
          "text": [
            "1.3333333333333335    49.999999999999986\n",
            "-0.24999999999999956    633.3333333333344\n",
            "4.15598885793872    106.01541554959786\n",
            "-1.1433475728602582    463.4930406632062\n",
            "-2.4741465882134106    53.788204049547716\n",
            "-3.2334556819916025    23.482897817560495\n",
            "-2.7050556578995906    19.533794898042935\n",
            "-2.7506366038152263    1.6571053352672414\n",
            "-2.7610724045985626    0.3779618660472455\n",
            "-2.7608166925870914    0.00926218724183425\n",
            "The root is : -2.7608166925870914\n"
          ]
        }
      ],
      "source": [
        "Xi = 2\n",
        "Xi_prev = 3\n",
        "epsilon = 0.01\n",
        "\n",
        "# Complete the following function\n",
        "def secant(f, Xi, Xi_prev, epsilon):\n",
        "  # write your implementation here\n",
        "  error = 100\n",
        "  errorLi = []\n",
        "  while(1):\n",
        "    if func(f,Xi)==func(f,Xi_prev):\n",
        "      return func(f,Xi)\n",
        "    xNew = Xi - ((func(f,Xi)*(Xi-Xi_prev))/(func(f,Xi)-func(f,Xi_prev)))\n",
        "    error = ((xNew - Xi)/xNew)*100\n",
        "    Xi_prev = Xi\n",
        "    Xi = xNew\n",
        "    error = abs(error)\n",
        "    errorLi.append(error)\n",
        "    print(Xi, \"  \",error)\n",
        "    if error < epsilon :\n",
        "            break  \n",
        "  print(\"The root is :\",Xi)\n",
        "  return errorLi\n",
        "  \n",
        "\n",
        "# Write a script here for calling the above function\n",
        "error = secant(f, Xi, Xi_prev, epsilon)"
      ]
    },
    {
      "cell_type": "markdown",
      "metadata": {
        "id": "8lJg-fOvDMC-"
      },
      "source": [
        "## Task 4\n",
        "Plot the **iteration vs absolute relative approximate error (%)** curves for both False position method and Secant method in the same graph and see which one converges faster."
      ]
    },
    {
      "cell_type": "code",
      "execution_count": null,
      "metadata": {
        "colab": {
          "base_uri": "https://localhost:8080/",
          "height": 332
        },
        "id": "JhqBjR7IK2Dl",
        "outputId": "6f48bbef-3b74-4b29-d439-8331b476e096"
      },
      "outputs": [
        {
          "name": "stdout",
          "output_type": "stream",
          "text": [
            "[49.999999999999986, 633.3333333333344, 106.01541554959786, 463.4930406632062, 53.788204049547716, 23.482897817560495, 19.533794898042935, 1.6571053352672414, 0.3779618660472455, 0.00926218724183425]\n"
          ]
        },
        {
          "data": {
            "image/png": "[encoded data removed]",
            "text/plain": [
              "<Figure size 432x288 with 1 Axes>"
            ]
          },
          "metadata": {
            "needs_background": "light"
          },
          "output_type": "display_data"
        }
      ],
      "source": [
        "# Write your code for generating the graph here\n",
        "\n",
        "import numpy as np\n",
        "import matplotlib.pyplot as plt\n",
        "\n",
        "iters = np.arange(0, 5) #start=0, stop=5, and since no step is given, so default step=1\n",
        "vals = np.arange(100, 200, 20) #start=100, stop=200, step=20\n",
        "print(error)\n",
        "plt.plot(error)\n",
        "plt.title(\"Iterations vs error plot\")\n",
        "plt.xlabel(\"Iteration\")\n",
        "plt.ylabel(\"Error\")\n",
        "plt.plot(errorList)\n",
        "plt.show()\n",
        "\n"
      ]
    }
  ],
  "metadata": {
    "colab": {
      "collapsed_sections": [],
      "provenance": []
    },
    "kernelspec": {
      "display_name": "Python 3",
      "name": "python3"
    },
    "language_info": {
      "name": "python"
    }
  },
  "nbformat": 4,
  "nbformat_minor": 0
}
