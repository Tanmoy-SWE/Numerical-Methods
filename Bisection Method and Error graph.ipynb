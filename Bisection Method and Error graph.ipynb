{
  "cells": [
    {
      "cell_type": "markdown",
      "metadata": {
        "id": "SChhcgB_Tkv9"
      },
      "source": [
        "# **Bisection Method**<br>\n",
        "\n",
        "The bisection method (also known as the binary search method) is a method of finding roots of a non-linear function. The assumption here is that the function is real continuous, otherwise the bisection method will not work. It is based on the **Intermediate Value Theorem** which states that if f(x) is a real continuous function, and if f(x<sub>l</sub>)f(x<sub>u</sub>)\\< 0 then there must be a root between x<sub>l</sub> and x<sub>u</sub>.\n",
        "\n",
        "In today's lab, we will be implementing the bisection method in python. We will be considering the function f(x) as an array of coefficients, for instance if we want to have f(x) = x<sup>3</sup>-2x<sup>2</sup>+4, then in python we will create an array as follows:\n"
      ]
    },
    {
      "cell_type": "code",
      "execution_count": null,
      "metadata": {
        "colab": {
          "base_uri": "https://localhost:8080/"
        },
        "id": "rZ4tGQSjTvYF",
        "outputId": "8f1581fc-386a-4e6a-b6e1-b7b33e7d3f1b"
      },
      "outputs": [
        {
          "name": "stdout",
          "output_type": "stream",
          "text": [
            "[ 1 -2  0  4]\n"
          ]
        }
      ],
      "source": [
        "import numpy as np\n",
        "import math\n",
        "f = np.array([1,-2,0,4])\n",
        "print(f)"
      ]
    },
    {
      "cell_type": "code",
      "execution_count": null,
      "metadata": {
        "colab": {
          "base_uri": "https://localhost:8080/"
        },
        "id": "47J_e93I0maB",
        "outputId": "4986e44e-073e-4b36-9d8a-95b8238dd360"
      },
      "outputs": [
        {
          "name": "stdout",
          "output_type": "stream",
          "text": [
            "79\n"
          ]
        }
      ],
      "source": [
        "def func(x, f):\n",
        "    result = 0\n",
        "    for i in range(len(f)-1, -1, -1):\n",
        "      result = result + f[len(f)-i-1]*pow(x,i)\n",
        "    return result\n",
        "\n",
        "print(func(5,f))"
      ]
    },
    {
      "cell_type": "markdown",
      "metadata": {
        "id": "E4vSfOrrTwlc"
      },
      "source": [
        "Next, you will need to create a user-defined function as follows\n",
        "\n",
        "```\n",
        "bisection_method(f, xl, xu, epsilon)\n",
        "```\n",
        "This function will return the root of the equation represented by the array f and in case it does not reach the root exactly then it will return the close enough value to the root that has an absolute relative approximate error of at most epsilon (%).\n",
        "\n",
        "In python, functions are defined as follows"
      ]
    },
    {
      "cell_type": "code",
      "execution_count": null,
      "metadata": {
        "colab": {
          "base_uri": "https://localhost:8080/"
        },
        "id": "aUR8kbzqT0AM",
        "outputId": "0565c1fc-47a7-48ef-dd31-0f25769fcbc5"
      },
      "outputs": [
        {
          "name": "stdout",
          "output_type": "stream",
          "text": [
            "3\n"
          ]
        }
      ],
      "source": []
    },
    {
      "cell_type": "markdown",
      "metadata": {
        "id": "cCGekrFWT3Lc"
      },
      "source": [
        "Note that in python, we do not need to specify the data type for parameters nor any return type for the function as these are implicitly determined. Also, note the colon (:) after the function signature. Indentation matters in python, since the consecutive codes having same indentation will be considered as a single block."
      ]
    },
    {
      "cell_type": "markdown",
      "metadata": {
        "id": "3sOLCbqJT7q0"
      },
      "source": [
        "##Task 1\n",
        "Implement the function for bisection method following the requirements set earlier. Write a script after the function to call it and test whether it is working correctly."
      ]
    },
    {
      "cell_type": "code",
      "execution_count": null,
      "metadata": {
        "id": "f6HGUB7nT9k9"
      },
      "outputs": [],
      "source": [
        "import math\n",
        "#Complete the following function\n",
        "\n",
        "def bisection_method(f, xl, xu, epsilon):\n",
        "      xm = xl\n",
        "      error = 99\n",
        "      i = 0\n",
        "      while (True):\n",
        "          if(i!=0):\n",
        "            xold = xm\n",
        "          xm = (xl + xu) / 2\n",
        "          # if (func(xm, f) == 0.0):\n",
        "          #     break\n",
        "\n",
        "          if (func(xl,f) * func(xm,f)) < 0:\n",
        "              xu = xm\n",
        "          else:\n",
        "              xl = xm\n",
        "          if(i!=0):\n",
        "            error = abs((xm-xold)/xm)*100\n",
        "            if error<=epsilon:\n",
        "              break\n",
        "          i = i+1\n",
        "\n",
        "        print(\"The value of root is : \", \"%.4f\" % xm)\n",
        "  #write your implementation here\n",
        "\n",
        "bisection_method(f,-100,100,0.01)\n",
        "\n"
      ]
    },
    {
      "cell_type": "markdown",
      "metadata": {
        "id": "5Jb9dNIqT_f8"
      },
      "source": [
        "We can plot graphs in python using the matplotlib library. An example of plotting graphs is shown here"
      ]
    },
    {
      "cell_type": "code",
      "execution_count": null,
      "metadata": {
        "colab": {
          "base_uri": "https://localhost:8080/",
          "height": 295
        },
        "id": "0XJwGIRjUCy7",
        "outputId": "e6c8954f-6856-49b8-f123-d60ed161c711"
      },
      "outputs": [
        {
          "data": {
            "image/png": "[encoded data removed]",
            "text/plain": [
              "<Figure size 432x288 with 1 Axes>"
            ]
          },
          "metadata": {
            "needs_background": "light"
          },
          "output_type": "display_data"
        }
      ],
      "source": [
        "import numpy as np\n",
        "import matplotlib.pyplot as plt\n",
        "\n",
        "iters = np.arange(0, 5) #start=0, stop=5, and since no step is given, so default step=1\n",
        "vals = np.arange(100, 200, 20) #start=100, stop=200, step=20\n",
        "\n",
        "plt.plot(iters, vals)\n",
        "plt.title(\"Iterations vs values plot\")\n",
        "plt.xlabel(\"Iteration\")\n",
        "plt.ylabel(\"Value\")\n",
        "plt.show()"
      ]
    },
    {
      "cell_type": "markdown",
      "metadata": {
        "id": "Z6sc0ZNUUGNk"
      },
      "source": [
        "## Task 2\n",
        "Generate a plot of **iteration vs relative approx error (%)** for the bisection method function you implemented earlier."
      ]
    },
    {
      "cell_type": "code",
      "execution_count": null,
      "metadata": {
        "id": "OjOMS6Ri8mWJ"
      },
      "outputs": [],
      "source": [
        "def iterationError(f, xl, xu, epsilon):\n",
        "      xm = xl\n",
        "      error = 99\n",
        "      i = 0\n",
        "      errorList = []\n",
        "      while (True):\n",
        "          if(i!=0):\n",
        "            xold = xm\n",
        "          xm = (xl + xu) / 2\n",
        "          # if (func(xm, f) == 0.0):\n",
        "          #     break\n",
        "\n",
        "          if (func(xl,f) * func(xm,f)) < 0:\n",
        "              xu = xm\n",
        "          else:\n",
        "              xl = xm\n",
        "          if(i!=0):\n",
        "            error = abs((xm-xold)/xm)*100\n",
        "            if error<=epsilon:\n",
        "              break\n",
        "          i = i+1\n",
        "          errorList.append(error)\n",
        "      return errorList\n",
        "      # print(\"The value of root is : \", \"%.4f\" % xm)\n",
        "\n",
        "\n"
      ]
    },
    {
      "cell_type": "code",
      "execution_count": null,
      "metadata": {
        "colab": {
          "base_uri": "https://localhost:8080/",
          "height": 312
        },
        "id": "uWmrGY5E9Ntg",
        "outputId": "e13b5326-5811-4d5d-9743-ffc6166c1d9c"
      },
      "outputs": [
        {
          "name": "stdout",
          "output_type": "stream",
          "text": [
            "[99, 33.33333333333333, 20.0, 11.11111111111111, 5.263157894736842]\n"
          ]
        },
        {
          "data": {
            "image/png": "[encoded data removed]",
            "text/plain": [
              "<Figure size 432x288 with 1 Axes>"
            ]
          },
          "metadata": {
            "needs_background": "light"
          },
          "output_type": "display_data"
        }
      ],
      "source": [
        "error = iterationError(f, -2, 0, 5)\n",
        "print(error)\n",
        "#iters = np.arange(0, error) #start=0, stop=5, and since no step is given, so default step=1\n",
        "vals = np.arange(100, 200, 20) #start=100, stop=200, step=20\n",
        "\n",
        "plt.plot(error)\n",
        "plt.title(\"Iterations vs values plot\")\n",
        "plt.xlabel(\"Iteration\")\n",
        "plt.ylabel(\"Value\")\n",
        "plt.show()"
      ]
    }
  ],
  "metadata": {
    "colab": {
      "collapsed_sections": [],
      "provenance": []
    },
    "kernelspec": {
      "display_name": "Python 3",
      "name": "python3"
    },
    "language_info": {
      "name": "python"
    }
  },
  "nbformat": 4,
  "nbformat_minor": 0
}
